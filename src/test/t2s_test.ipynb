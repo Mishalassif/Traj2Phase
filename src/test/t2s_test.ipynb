{
 "cells": [
  {
   "cell_type": "code",
   "execution_count": 1,
   "metadata": {},
   "outputs": [],
   "source": [
    "from traj2sim import *\n",
    "import numpy as np\n",
    "\n",
    "import matplotlib.pyplot as plt\n",
    "%matplotlib inline\n"
   ]
  },
  {
   "cell_type": "code",
   "execution_count": 7,
   "metadata": {},
   "outputs": [],
   "source": [
    "def sphere_point(theta, phi):\n",
    "    return [math.sin(phi)*math.cos(theta), math.sin(phi)*math.sin(theta), -math.cos(phi)]\n",
    "\n",
    "def great_circle_with_time(theta, length=10, noise=False, sigma=0.05, time_i=0, time_f=10):\n",
    "    traj = np.zeros((time_f-time_i,4))\n",
    "    for i in range(0, time_f-time_i):\n",
    "        traj[i][1:] = sphere_point(theta, (time_i+i)*math.pi/length)\n",
    "        traj[i][0] = sphere_point(theta, (time_i+i)*math.pi/length)[2]\n",
    "        if noise == True:\n",
    "            traj[i][1:] = np.add(traj[i],sigma*np.random.randn(1,3))\n",
    "    return traj\n",
    "\n",
    "l=300\n",
    "traj1 = great_circle_with_time(2*math.pi*0.1, length=l, time_f=l)\n",
    "traj2 = great_circle_with_time(2*math.pi*0.6, length=l, time_f=l)\n",
    "traj3 = great_circle_with_time(2*math.pi*0.5, length=l, time_f=l)"
   ]
  },
  {
   "cell_type": "code",
   "execution_count": null,
   "metadata": {},
   "outputs": [],
   "source": [
    "t2s = Traj2Sim()\n",
    "t2s.set_trajectories([traj1, traj2, traj3])\n",
    "t2s.compute_mssd()\n",
    "\n",
    "print(t2s.bifilt)\n",
    "\n",
    "#Length of each trajectory vs Time taken (s)\n",
    "#100 - 2.2\n",
    "#200 - 8.2\n",
    "#300 - 18.2\n",
    "#400 - 32\n",
    "#500 - 52\n",
    "#600 - 77\n",
    "#1000 - 200\n",
    "#2000 - 840\n",
    "#Time complexity looks quadratic in length of each trajectory, as expected.\n",
    "#Average complexity: O(n^2), Worst case amortized complexity: O(n^4)"
   ]
  },
  {
   "cell_type": "code",
   "execution_count": 4,
   "metadata": {},
   "outputs": [
    {
     "name": "stdout",
     "output_type": "stream",
     "text": [
      "[[[0.    0.313 0.618]\n",
      "  [0.313 0.    0.363]\n",
      "  [0.618 0.363 0.   ]]\n",
      "\n",
      " [[0.    0.908 1.134]\n",
      "  [0.908 0.    0.5  ]\n",
      "  [1.134 0.5   0.   ]]\n",
      "\n",
      " [[0.    1.414 1.551]\n",
      "  [1.414 0.    0.588]\n",
      "  [1.551 0.588 0.   ]]\n",
      "\n",
      " [[0.    1.782 1.819]\n",
      "  [1.782 0.    0.618]\n",
      "  [1.819 0.618 0.   ]]\n",
      "\n",
      " [[0.    1.975 1.881]\n",
      "  [1.975 0.    0.618]\n",
      "  [1.881 0.618 0.   ]]\n",
      "\n",
      " [[0.    1.975 1.881]\n",
      "  [1.975 0.    0.618]\n",
      "  [1.881 0.618 0.   ]]\n",
      "\n",
      " [[0.    1.975 1.881]\n",
      "  [1.975 0.    0.618]\n",
      "  [1.881 0.618 0.   ]]\n",
      "\n",
      " [[0.    1.975 1.912]\n",
      "  [1.975 0.    0.679]\n",
      "  [1.912 0.679 0.   ]]]\n"
     ]
    }
   ],
   "source": [
    "t2s.save_bifilt(filename='t2s_test_bifilt.npy')\n",
    "t2s = Traj2Sim()\n",
    "t2s.load_bifilt(filename='t2s_test_bifilt.npy')\n",
    "print(t2s.bifilt)\n"
   ]
  }
 ],
 "metadata": {
  "kernelspec": {
   "display_name": "Python 3",
   "language": "python",
   "name": "python3"
  },
  "language_info": {
   "codemirror_mode": {
    "name": "ipython",
    "version": 3
   },
   "file_extension": ".py",
   "mimetype": "text/x-python",
   "name": "python",
   "nbconvert_exporter": "python",
   "pygments_lexer": "ipython3",
   "version": "3.6.9"
  }
 },
 "nbformat": 4,
 "nbformat_minor": 2
}
