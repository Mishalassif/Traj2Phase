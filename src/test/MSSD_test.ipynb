{
 "cells": [
  {
   "cell_type": "code",
   "execution_count": 21,
   "metadata": {},
   "outputs": [],
   "source": [
    "from MSSD import MSSD\n",
    "import math\n",
    "import numpy as np\n",
    "from alive_progress import alive_bar\n",
    "import matplotlib.pyplot as plt\n",
    "%matplotlib inline\n"
   ]
  },
  {
   "cell_type": "code",
   "execution_count": 36,
   "metadata": {},
   "outputs": [],
   "source": [
    "def sphere_point(theta, phi):\n",
    "    return [math.sin(phi)*math.cos(theta), math.sin(phi)*math.sin(theta), -math.cos(phi)]\n",
    "\n",
    "def great_circle_with_time(theta, length=10, noise=False, sigma=0.05, time_i=0, time_f=10):\n",
    "    traj = np.zeros((time_f-time_i,4))\n",
    "    for i in range(0, time_f-time_i):\n",
    "        traj[i][1:] = sphere_point(theta, (time_i+i)*math.pi/length)\n",
    "        traj[i][0] = sphere_point(theta, (time_i+i)*math.pi/length)[2]\n",
    "        if noise == True:\n",
    "            traj[i][1:] = np.add(traj[i],sigma*np.random.randn(1,3))\n",
    "    return traj\n",
    "\n",
    "l = 3000\n",
    "traj1 = great_circle_with_time(2*math.pi*0.1, length=l, time_i=0, time_f=l)\n",
    "traj2 = great_circle_with_time(2*math.pi*0.6, length=l, time_i=0, time_f=l)"
   ]
  },
  {
   "cell_type": "code",
   "execution_count": 37,
   "metadata": {},
   "outputs": [
    {
     "name": "stdout",
     "output_type": "stream",
     "text": [
      "|████████████████████████████████████▊   | ▅▃▁ 8267447/9000000 [92%] in 9:23 (14686.5/s, et00000 [0%] in 0s (17946.1/s, eta: 8:233421/9000000 [0%] in 2s (14497.1/s, eta: 10in 3s (14953.1/s, eta: 10 in 4s (14941.1/s, eta: 10 ▃▁▃ 106857/9000000 [1%] in 7s (15385.1/s, eta: 9135965/9000000 [2%] in 9s (15001.2/s, eta: 9in 15s (15053.5/s, eta: ▅▃▁ 241009/9000000 [3%] in 16s (15059.0/s, eta: 329202/9000000 [4%] in 22s (15055.4/s, eta:  ▆█▆ 399787/9000000 [4%] in 26s (15121.6/s, eta:  460089/9000000 [5%] in 30s (15122.4/s, eta:  ▃▁▃ 507787/9000000 [6%] in 33s (15164.2/s, eta:  524611/9000000 [6%] in 35s (15166.8/s, eta:  581096/9000000 [6%] in 39s (15085.2/s, eta: 605255/9000000 [7%] in 40s (15057.6/s, eta: (15185.0/s, eta:  870891/9000000 [10%] in 57s (15204.6/s, eta:▇▅▃ 919249/9000000 [10%] in 1:00 (15208.9/s, eta in 1:06 (15057.2/s, et ▇▅▃ 1005300/9000000 [11%] in 1:07 (15045.3/s, etin 1:08 (15014.5/s, etin 1:11 (14980.5/s, et ▃▅▇ 1064073/9000000 [12%] in 1:11 (14968.5/s, et (14958.1/s, et in 1:12 (14960.1/s, et 1076455/9000000 [12%] in 1:12 (14953.3/s, et 1085624/9000000 [12%] in 1:13 (14924.8/s, et 1123847/9000000 [12%] in 1:15 (14946.8/s, et in 1:18 (14989.2/s, et ▃▅▇ 1311387/9000000 [15%] in 1:28 (14930.2/s, etin 1:33 (14997.1/s, et 1420863/9000000 [16%] in 1:35 (15011.2/s, et1531964/9000000 [17%] in 1:42 (15050.9/s, et ▃▁▃ 1579141/9000000 [18%] in 1:45 (15069.6/s, et▆█▆ 1767942/9000000 [20%] in 1:57 (15097.5/s, et(15141.2/s, et(15148.9/s, et ▃▁▃ 1949748/9000000 [22%] in 2:09 (15159.7/s, et2034910/9000000 [23%] in 2:14 (15183.5/s, et ▇▅▃ 2210267/9000000 [25%] in 2:25 (15214.9/s, et ▁▃▅ 2420699/9000000 [27%] in 2:39 (15251.6/s, et▄▆█ 2478794/9000000 [28%] in 2:42 (15272.8/s, et ▅▇▇ 2494220/9000000 [28%] in 2:43 (15275.2/s, etin 2:49 (15303.5/s, et in 2:59 (15331.1/s, et in 3:03 (15337.0/s, et▄▆█ 2925438/9000000 [33%] in 3:11 (15341.0/s, et(15328.6/s, et█▆▄ 2958998/9000000 [33%] in 3:13 (15313.8/s, et(15268.1/s, et▂▂▄ 3015804/9000000 [34%] in 3:18 (15233.8/s, et ▂▄▆ 3029098/9000000 [34%] in 3:19 (15218.7/s, et █▆▄ 3177406/9000000 [35%] in 3:32 (14965.3/s, et in 3:32 (14962.0/s, et 3203800/9000000 [36%] in 3:34 (14945.3/s, et(14937.1/s, et 3247818/9000000 [36%] in 3:38 (14929.7/s, et3271428/9000000 [36%] in 3:39 (14963.0/s, et▇▅▃ 3302466/9000000 [37%] in 3:41 (14964.9/s, et ▄▂▂ 3307428/9000000 [37%] in 3:41 (14960.4/s, et 3329751/9000000 [37%] in 3:43 (14946.7/s, et in 3:46 (14954.3/s, et▃▁▃ 3448299/9000000 [38%] in 3:51 (14927.8/s, et3460170/9000000 [38%] in 3:52 (14921.6/s, et3488523/9000000 [39%] in 3:54 (14929.9/s, et ▅▃▁ 3523478/9000000 [39%] in 3:56 (14905.5/s, et ▁▃▅ 3534245/9000000 [39%] in 3:57 (14900.5/s, et3656516/9000000 [41%] in 4:06 (14866.2/s, et▅▇▇ 3672356/9000000 [41%] in 4:08 (14837.6/s, et ▂▄▆ 3677355/9000000 [41%] in 4:08 (14818.4/s, et3711603/9000000 [41%] in 4:12 (14734.9/s, et 3717337/9000000 [41%] in 4:12 (14727.0/s, et▁▃▅ 3726129/9000000 [41%] in 4:13 (14726.6/s, et in 4:14 (14713.1/s, et▄▂▂ 3756217/9000000 [42%] in 4:15 (14708.7/s, et3759104/9000000 [42%] in 4:16 (14704.9/s, et3790123/9000000 [42%] in 4:19 (14644.1/s, et▅▃▁ 3797750/9000000 [42%] in 4:20 (14616.8/s, et ▇▇▅ 3812042/9000000 [42%] in 4:21 (14596.0/s, et in 4:23 (14564.1/s, et3879951/9000000 [43%] in 4:27 (14535.5/s, et (14528.3/s, et 3994343/9000000 [44%] in 4:35 (14540.5/s, et(14544.0/s, et (14538.6/s, etin 4:38 (14539.1/s, et ▂▄▆ 4058725/9000000 [45%] in 4:39 (14561.7/s, et ▃▅▇ 4062171/9000000 [45%] in 4:39 (14559.9/s, etin 4:40 (14553.3/s, et 4083806/9000000 [45%] in 4:40 (14559.5/s, et▇▇▅ 4098036/9000000 [46%] in 4:41 (14563.7/s, et 4153350/9000000 [46%] in 4:46 (14539.3/s, et(14529.7/s, et 4212070/9000000 [47%] in 4:50 (14543.4/s, etin 4:52 (14568.3/s, et ▆█▆ 4326230/9000000 [48%] in 4:57 (14583.6/s, et(14598.4/s, et(14612.8/s, et 4459431/9000000 [50%] in 5:05 (14636.5/s, et▆▄▂ 4464349/9000000 [50%] in 5:05 (14640.5/s, et▂▂▄ 4477255/9000000 [50%] in 5:06 (14637.4/s, etin 5:11 (14647.5/s, et ▃▅▇ 4607576/9000000 [51%] in 5:14 (14652.8/s, et (14653.8/s, et ▆▄▂ 4667708/9000000 [52%] in 5:19 (14650.1/s, et 4735397/9000000 [53%] in 5:23 (14654.3/s, et▃▁▃ 4748474/9000000 [53%] in 5:24 (14649.1/s, et ▁▃▅ 4755550/9000000 [53%] in 5:25 (14645.0/s, et4770568/9000000 [53%] in 5:26 (14640.6/s, et█▆▄ 4786250/9000000 [53%] in 5:27 (14618.8/s, et in 5:28 (14614.5/s, et▇▇▅ 4814187/9000000 [53%] in 5:30 (14601.3/s, et4826816/9000000 [54%] in 5:31 (14593.9/s, et ▂▄▆ 4856909/9000000 [54%] in 5:33 (14588.9/s, et ▃▅▇ 4864179/9000000 [54%] in 5:33 (14587.4/s, et4954345/9000000 [55%] in 5:39 (14600.0/s, et 4969549/9000000 [55%] in 5:40 (14598.2/s, et5030881/9000000 [56%] in 5:45 (14584.9/s, et▇▅▃ 5035806/9000000 [56%] in 5:45 (14584.0/s, et (14576.7/s, et▂▄▆ 5065597/9000000 [56%] in 5:48 (14572.4/s, et (14566.0/s, etin 5:50 (14564.3/s, et▂▂▄ 5103373/9000000 [57%] in 5:50 (14562.0/s, et ▅▇▇ 5121157/9000000 [57%] in 5:52 (14555.5/s, et▂▂▄ 5129574/9000000 [57%] in 5:53 (14546.1/s, et ▄▆█ 5140963/9000000 [57%] in 5:54 (14541.4/s, et▅▇▇ 5151369/9000000 [57%] in 5:54 (14544.7/s, etin 5:56 (14525.3/s, et 5182996/9000000 [58%] in 5:57 (14523.4/s, et 5199000/9000000 [58%] in 5:58 (14516.4/s, et5216068/9000000 [58%] in 5:59 (14520.2/s, et ▃▅▇ 5218605/9000000 [58%] in 5:59 (14517.4/s, et ▆█▆ 5237145/9000000 [58%] in 6:01 (14515.4/s, et ▁▃▅ 5322580/9000000 [59%] in 6:07 (14496.0/s, et ▄▂▂ 5579039/9000000 [62%] in 6:24 (14513.8/s, et ▃▁▃ 5581253/9000000 [62%] in 6:25 (14514.2/s, et 5608427/9000000 [62%] in 6:26 (14516.4/s, et ▃▅▇ 5621321/9000000 [62%] in 6:27 (14515.3/s, et ▆▄▂ 5643956/9000000 [63%] in 6:29 (14515.8/s, et 5647476/9000000 [63%] in 6:29 (14515.8/s, et █▆▄ 5662278/9000000 [63%] in 6:30 (14503.7/s, et in 6:32 (14496.3/s, et (14503.3/s, et in 6:38 (14509.5/s, etin 6:39 (14506.8/s, et ▅▃▁ 5804423/9000000 [64%] in 6:40 (14515.5/s, et▂▂▄ 5838125/9000000 [65%] in 6:42 (14515.4/s, et in 6:43 (14510.9/s, etin 6:46 (14518.4/s, et(14522.8/s, et ▄▂▂ 5977721/9000000 [66%] in 6:50 (14562.8/s, etin 6:54 (14563.7/s, et in 6:55 (14569.1/s, et 6096560/9000000 [68%] in 6:58 (14568.3/s, et (14595.2/s, etin 7:04 (14586.6/s, et ▆▄▂ 6184875/9000000 [69%] in 7:04 (14584.9/s, et (14588.0/s, et▂▄▆ 6284025/9000000 [70%] in 7:11 (14586.3/s, et▅▇▇ 6300896/9000000 [70%] in 7:12 (14585.5/s, et(14590.5/s, et6338920/9000000 [70%] in 7:15 (14585.2/s, et 6370428/9000000 [71%] in 7:17 (14579.2/s, et in 7:21 (14576.4/s, et 6450967/9000000 [72%] in 7:23 (14574.4/s, et in 7:24 (14573.8/s, et6522424/9000000 [72%] in 7:27 (14592.0/s, et (14590.9/s, et(14585.3/s, et ▃▁▃ 6654400/9000000 [74%] in 7:36 (14582.5/s, et (14580.9/s, et 6720695/9000000 [75%] in 7:41 (14579.1/s, et(14579.5/s, et(14586.8/s, et▃▅▇ 6799012/9000000 [76%] in 7:46 (14582.7/s, etin 7:48 (14581.0/s, et ▂▄▆ 6885353/9000000 [77%] in 7:52 (14588.5/s, etin 7:53 (14590.2/s, etin 7:55 (14588.7/s, etin 7:56 (14592.0/s, et in 8:03 (14625.2/s, et in 8:04 (14624.5/s, etin 8:06 (14621.3/s, et7207613/9000000 [80%] in 8:13 (14629.1/s, et █▆▄ 7401758/9000000 [82%] in 8:25 (14671.0/s, et7535907/9000000 [84%] in 8:34 (14674.5/s, et▄▆█ 7539650/9000000 [84%] in 8:34 (14673.4/s, et▇▇▅ 7548089/9000000 [84%] in 8:34 (14672.4/s, et 7550638/9000000 [84%] in 8:35 (14671.3/s, et ▇▅▃ 7562409/9000000 [84%] in 8:35 (14671.5/s, et7562920/9000000 [84%] in 8:36 (14671.0/s, et ▁▃▅ 7589922/9000000 [84%] in 8:37 (14670.6/s, etin 8:39 (14682.8/s, et (14679.2/s, et █▆▄ 7663246/9000000 [85%] in 8:42 (14669.7/s, et 7728145/9000000 [86%] in 8:47 (14669.5/s, et(14670.4/s, et7803072/9000000 [87%] in 8:52 (14669.4/s, etin 8:54 (14667.2/s, etin 8:57 (14666.0/s, etin 8:59 (14663.7/s, et in 9:01 (14669.5/s, et ▅▃▁ 7986320/9000000 [89%] in 9:04 (14671.1/s, et in 9:06 (14669.8/s, et ▃▅▇ 8022167/9000000 [89%] in 9:07 (14671.5/s, et ▄▆█ 8028105/9000000 [89%] in 9:07 (14670.1/s, et ▇▇▅ 8036714/9000000 [89%] in 9:08 (14665.1/s, et(14669.9/s, et 8088651/9000000 [90%] in 9:11 (14677.9/s, et ▁▃▅ 8097097/9000000 [90%] in 9:12 (14680.4/s, et8129712/9000000 [90%] in 9:14 (14687.5/s, et ▂▂▄ 8142881/9000000 [90%] in 9:14 (14686.1/s, et (14687.5/s, et(14684.9/s, et8226388/9000000 [91%] in 9:20 (14682.7/s, et ▇▇▅ 8243740/9000000 [92%] in 9:21 (14682.5/s, et▄▂▂ 8275857/9000000 [92%] in 9:24 (14683.3/s, et"
     ]
    },
    {
     "name": "stdout",
     "output_type": "stream",
     "text": [
      "|████████████████████████████████████████| 9000000/9000000 [100%] in 10:12.5 (14694.77/s)   8322010/9000000 [92%] in 9:27 (14684.3/s, et8443527/9000000 [94%] in 9:34 (14698.4/s, et8446999/9000000 [94%] in 9:35 (14697.4/s, et █▆▄ 8457077/9000000 [94%] in 9:35 (14697.5/s, et 8521238/9000000 [95%] in 9:40 (14701.8/s, et8543541/9000000 [95%] in 9:41 (14708.9/s, et 8574387/9000000 [95%] in 9:43 (14712.6/s, et(14709.9/s, etin 9:46 (14705.8/s, et ▇▅▃ 8634256/9000000 [96%] in 9:47 (14701.2/s, etin 9:49 (14690.4/s, et (14690.4/s, et8739588/9000000 [97%] in 9:55 (14697.8/s, et 8746105/9000000 [97%] in 9:55 (14698.3/s, et8832548/9000000 [98%] in 10:01 (14701.0/s, e ▆█▆ 8839093/9000000 [98%] in 10:01 (14697.8/s, e ▆▄▂ 8857893/9000000 [98%] in 10:03 (14691.8/s, e ▄▆█ 8902158/9000000 [99%] in 10:06 (14696.8/s, ein 10:06 (14699.8/s, e8940924/9000000 [99%] in 10:08 (14698.7/s, e ▄▂▂ 8985363/9000000 [100%] in 10:11 (14698.4/s, 8989186/9000000 [100%] in 10:12 (14697.3/s, \n",
      "[[0.e+00 1.e-03 2.e-03 ... 2.e+00 2.e+00 2.e+00]\n",
      " [1.e-03 2.e-03 3.e-03 ... 2.e+00 2.e+00 2.e+00]\n",
      " [2.e-03 3.e-03 4.e-03 ... 2.e+00 2.e+00 2.e+00]\n",
      " ...\n",
      " [2.e+00 2.e+00 2.e+00 ... 6.e-03 5.e-03 4.e-03]\n",
      " [2.e+00 2.e+00 2.e+00 ... 5.e-03 4.e-03 3.e-03]\n",
      " [2.e+00 2.e+00 2.e+00 ... 4.e-03 3.e-03 2.e-03]]\n",
      "[[1. 1. 1. ... 0. 0. 0.]\n",
      " [1. 1. 1. ... 0. 0. 0.]\n",
      " [1. 1. 1. ... 0. 0. 0.]\n",
      " ...\n",
      " [0. 0. 0. ... 1. 1. 1.]\n",
      " [0. 0. 0. ... 1. 1. 1.]\n",
      " [0. 0. 0. ... 1. 1. 1.]]\n"
     ]
    }
   ],
   "source": [
    "dist_mat = np.zeros((len(traj1), len(traj2)))\n",
    "eps = 1.976\n",
    "\n",
    "with alive_bar(len(traj1)*len(traj2), force_tty=True) as bar:\n",
    "    for i in range(len(traj1)):\n",
    "        for j in range(len(traj2)):\n",
    "            dist_mat[i,j] = round(np.linalg.norm(traj1[i][1:]-traj2[j][1:]), 3)\n",
    "            bar()\n",
    "\n",
    "print(dist_mat)\n",
    "print((dist_mat < eps)*np.ones((len(traj1), len(traj2))))\n",
    "#plt.matshow((dist_mat < eps))"
   ]
  },
  {
   "cell_type": "code",
   "execution_count": 38,
   "metadata": {},
   "outputs": [
    {
     "name": "stdout",
     "output_type": "stream",
     "text": [
      "Sorting time:\n",
      "1.7617791889999808\n",
      "Iteration time:\n",
      "112.28809582500003\n",
      "Post processing time:\n",
      "7.125329643000214\n"
     ]
    },
    {
     "data": {
      "text/plain": [
       "0.013"
      ]
     },
     "execution_count": 38,
     "metadata": {},
     "output_type": "execute_result"
    }
   ],
   "source": [
    "mssd = MSSD()\n",
    "mssd.set_trajectories(traj1, traj2)\n",
    "\n",
    "mssd.compute_filt()\n",
    "mssd.t_thresh_metric(7)\n",
    "\n",
    "#Detailed time profiler results:\n",
    "#length - sorting time - main iteration time - post processing time\n",
    "#300 - 0.01 - 1.13 - 0.05\n",
    "#600 - 0.04 - 3.85 - 0.24\n",
    "#2000 - 0.61 - 43.39 - 2.95\n",
    "#Also seems to indicate quadratic time complexity\n",
    " "
   ]
  },
  {
   "cell_type": "code",
   "execution_count": 5,
   "metadata": {},
   "outputs": [
    {
     "name": "stdout",
     "output_type": "stream",
     "text": [
      "[0.765 1.045 1.299 1.521 1.705 1.848 1.945 1.994]\n"
     ]
    },
    {
     "data": {
      "image/png": "[encoded data removed]",
      "text/plain": [
       "<Figure size 432x288 with 1 Axes>"
      ]
     },
     "metadata": {
      "needs_background": "light"
     },
     "output_type": "display_data"
    }
   ],
   "source": [
    "print(mssd.filt)\n",
    "\n",
    "x = [i+1 for i in range(mssd.filt.shape[0])]\n",
    "y = [mssd.filt[i] for i in range(mssd.filt.shape[0])]\n",
    "\n",
    "plt.plot(y,x)\n",
    "plt.show()"
   ]
  }
 ],
 "metadata": {
  "kernelspec": {
   "display_name": "Python 3",
   "language": "python",
   "name": "python3"
  },
  "language_info": {
   "codemirror_mode": {
    "name": "ipython",
    "version": 3
   },
   "file_extension": ".py",
   "mimetype": "text/x-python",
   "name": "python",
   "nbconvert_exporter": "python",
   "pygments_lexer": "ipython3",
   "version": "3.6.9"
  }
 },
 "nbformat": 4,
 "nbformat_minor": 2
}
