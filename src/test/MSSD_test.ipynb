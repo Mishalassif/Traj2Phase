{
 "cells": [
  {
   "cell_type": "code",
   "execution_count": 1,
   "metadata": {},
   "outputs": [],
   "source": [
    "from MSSD import MSSD\n",
    "import math\n",
    "import numpy as np\n",
    "\n",
    "import matplotlib.pyplot as plt\n",
    "%matplotlib inline\n"
   ]
  },
  {
   "cell_type": "code",
   "execution_count": 5,
   "metadata": {},
   "outputs": [],
   "source": [
    "def sphere_point(theta, phi):\n",
    "    return [math.sin(phi)*math.cos(theta), math.sin(phi)*math.sin(theta), -math.cos(phi)]\n",
    "\n",
    "def great_circle_with_time(theta, length=10, noise=False, sigma=0.05, time_i=0, time_f=10):\n",
    "    traj = np.zeros((time_f-time_i,4))\n",
    "    for i in range(0, time_f-time_i):\n",
    "        traj[i][1:] = sphere_point(theta, (time_i+i)*math.pi/length)\n",
    "        traj[i][0] = sphere_point(theta, (time_i+i)*math.pi/length)[2]\n",
    "        if noise == True:\n",
    "            traj[i][1:] = np.add(traj[i],sigma*np.random.randn(1,3))\n",
    "    return traj\n",
    "\n",
    "traj1 = great_circle_with_time(2*math.pi*0.1, length=20, time_i=0, time_f=8)\n",
    "traj2 = great_circle_with_time(2*math.pi*0.6, length=20, time_i=5, time_f=13)"
   ]
  },
  {
   "cell_type": "code",
   "execution_count": 6,
   "metadata": {},
   "outputs": [
    {
     "name": "stdout",
     "output_type": "stream",
     "text": [
      "[[0.765 0.908 1.045 1.176 1.299 1.414 1.521 1.618]\n",
      " [0.908 1.045 1.176 1.299 1.414 1.521 1.618 1.705]\n",
      " [1.045 1.176 1.299 1.414 1.521 1.618 1.705 1.782]\n",
      " [1.176 1.299 1.414 1.521 1.618 1.705 1.782 1.848]\n",
      " [1.299 1.414 1.521 1.618 1.705 1.782 1.848 1.902]\n",
      " [1.414 1.521 1.618 1.705 1.782 1.848 1.902 1.945]\n",
      " [1.521 1.618 1.705 1.782 1.848 1.902 1.945 1.975]\n",
      " [1.618 1.705 1.782 1.848 1.902 1.945 1.975 1.994]]\n",
      "[[1. 1. 1. 1. 1. 1. 1. 1.]\n",
      " [1. 1. 1. 1. 1. 1. 1. 1.]\n",
      " [1. 1. 1. 1. 1. 1. 1. 1.]\n",
      " [1. 1. 1. 1. 1. 1. 1. 1.]\n",
      " [1. 1. 1. 1. 1. 1. 1. 1.]\n",
      " [1. 1. 1. 1. 1. 1. 1. 1.]\n",
      " [1. 1. 1. 1. 1. 1. 1. 1.]\n",
      " [1. 1. 1. 1. 1. 1. 1. 0.]]\n"
     ]
    }
   ],
   "source": [
    "dist_mat = np.zeros((len(traj1), len(traj2)))\n",
    "eps = 1.976\n",
    "for i in range(len(traj1)):\n",
    "    for j in range(len(traj2)):\n",
    "        dist_mat[i,j] = round(np.linalg.norm(traj1[i][1:]-traj2[j][1:]), 3)\n",
    "\n",
    "print(dist_mat)\n",
    "print((dist_mat < eps)*np.ones((len(traj1), len(traj2))))\n",
    "#plt.matshow((dist_mat < eps))"
   ]
  },
  {
   "cell_type": "code",
   "execution_count": 4,
   "metadata": {},
   "outputs": [
    {
     "data": {
      "text/plain": [
       "1.975"
      ]
     },
     "execution_count": 4,
     "metadata": {},
     "output_type": "execute_result"
    }
   ],
   "source": [
    "mssd = MSSD()\n",
    "mssd.set_trajectories(traj1, traj2)\n",
    "\n",
    "mssd.compute_filt()\n",
    "mssd.t_thresh_metric(7)"
   ]
  },
  {
   "cell_type": "code",
   "execution_count": 5,
   "metadata": {},
   "outputs": [
    {
     "name": "stdout",
     "output_type": "stream",
     "text": [
      "[0.313 0.908 1.414 1.782 1.975 1.975 1.975 1.975]\n"
     ]
    },
    {
     "data": {
      "image/png": "[encoded data removed]",
      "text/plain": [
       "<Figure size 432x288 with 1 Axes>"
      ]
     },
     "metadata": {
      "needs_background": "light"
     },
     "output_type": "display_data"
    }
   ],
   "source": [
    "print(mssd.filt)\n",
    "\n",
    "x = [i+1 for i in range(mssd.filt.shape[0])]\n",
    "y = [mssd.filt[i] for i in range(mssd.filt.shape[0])]\n",
    "\n",
    "plt.plot(y,x)\n",
    "plt.show()"
   ]
  }
 ],
 "metadata": {
  "kernelspec": {
   "display_name": "Python 3",
   "language": "python",
   "name": "python3"
  },
  "language_info": {
   "codemirror_mode": {
    "name": "ipython",
    "version": 3
   },
   "file_extension": ".py",
   "mimetype": "text/x-python",
   "name": "python",
   "nbconvert_exporter": "python",
   "pygments_lexer": "ipython3",
   "version": "3.6.9"
  }
 },
 "nbformat": 4,
 "nbformat_minor": 2
}
