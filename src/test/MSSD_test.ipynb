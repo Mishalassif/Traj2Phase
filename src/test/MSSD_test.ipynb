{
 "cells": [
  {
   "cell_type": "code",
   "execution_count": 1,
   "metadata": {},
   "outputs": [],
   "source": [
    "from matching_string_distance import MSSD\n",
    "import math\n",
    "import numpy as np\n",
    "\n",
    "import matplotlib.pyplot as plt\n",
    "%matplotlib inline"
   ]
  },
  {
   "cell_type": "code",
   "execution_count": 9,
   "metadata": {},
   "outputs": [],
   "source": [
    "def sphere_point(theta, phi):\n",
    "    return [math.sin(phi)*math.cos(theta), math.sin(phi)*math.sin(theta), -math.cos(phi)]\n",
    "\n",
    "def great_circle_with_time(theta, length=10, noise=False, sigma=0.05, time_i=0, time_f=10):\n",
    "    traj = np.zeros((time_f-time_i,4))\n",
    "    for i in range(0, time_f-time_i):\n",
    "        traj[i][1:] = sphere_point(theta, (time_i+i)*math.pi/length)\n",
    "        traj[i][0] = sphere_point(theta, (time_i+i)*math.pi/length)[2]\n",
    "        if noise == True:\n",
    "            traj[i][1:] = np.add(traj[i],sigma*np.random.randn(1,3))\n",
    "    return traj\n",
    "\n",
    "traj1 = great_circle_with_time(2*math.pi*0.5, time_i=0, time_f=7)\n",
    "traj2 = great_circle_with_time(2*math.pi*0.6, time_i=3, time_f=9)"
   ]
  },
  {
   "cell_type": "code",
   "execution_count": 18,
   "metadata": {},
   "outputs": [
    {
     "name": "stdout",
     "output_type": "stream",
     "text": [
      "[[0. 0. 0. 0. 0. 0.]\n",
      " [0. 0. 0. 0. 0. 0.]\n",
      " [1. 0. 0. 0. 0. 0.]\n",
      " [1. 1. 0. 0. 0. 0.]\n",
      " [1. 1. 1. 0. 0. 0.]\n",
      " [0. 1. 1. 1. 0. 0.]\n",
      " [0. 0. 1. 1. 1. 0.]]\n"
     ]
    }
   ],
   "source": [
    "dist_mat = np.zeros((len(traj1), len(traj2)))\n",
    "eps = 0.68\n",
    "for i in range(len(traj1)):\n",
    "    for j in range(len(traj2)):\n",
    "        dist_mat[i,j] = round(np.linalg.norm(traj1[i][1:]-traj2[j][1:]), 3)\n",
    "        \n",
    "print((dist_mat < eps)*np.ones((len(traj1), len(traj2))))\n",
    "#plt.matshow((dist_mat < eps))"
   ]
  },
  {
   "cell_type": "code",
   "execution_count": 11,
   "metadata": {},
   "outputs": [],
   "source": [
    "mssd = MSSD()\n",
    "mssd.set_trajectories(traj1, traj2)\n",
    "\n",
    "mssd.compute_matching_dist()"
   ]
  },
  {
   "cell_type": "code",
   "execution_count": 12,
   "metadata": {},
   "outputs": [
    {
     "name": "stdout",
     "output_type": "stream",
     "text": [
      "[(0.5, 1), (0.529, 1), (0.588, 1), (0.588, 2), (0.618, 4), (0.626, 4), (0.626, 4), (0.626, 4), (0.679, 4), (0.679, 4), (0.679, 4), (0.679, 5), (0.691, 5), (0.772, 5), (0.772, 5), (0.831, 5), (0.831, 5), (0.831, 5), (0.853, 5), (0.853, 6), (0.908, 6), (0.968, 6), (1.024, 6), (1.024, 6), (1.058, 6), (1.058, 6), (1.058, 6), (1.176, 6), (1.225, 6), (1.263, 6), (1.263, 6), (1.277, 6), (1.414, 6), (1.453, 6), (1.477, 6), (1.477, 6), (1.618, 6), (1.647, 6), (1.658, 6), (1.782, 6), (1.801, 6), (1.902, 6)]\n"
     ]
    },
    {
     "data": {
      "image/png": "[encoded data removed]",
      "text/plain": [
       "<Figure size 432x288 with 1 Axes>"
      ]
     },
     "metadata": {
      "needs_background": "light"
     },
     "output_type": "display_data"
    }
   ],
   "source": [
    "print(mssd.filt)\n",
    "\n",
    "x = [mssd.filt[i][0] for i in range(len(mssd.filt))]\n",
    "y = [mssd.filt[i][1] for i in range(len(mssd.filt))]\n",
    "\n",
    "plt.plot(x,y)\n",
    "plt.show()"
   ]
  }
 ],
 "metadata": {
  "kernelspec": {
   "display_name": "Python 3",
   "language": "python",
   "name": "python3"
  },
  "language_info": {
   "codemirror_mode": {
    "name": "ipython",
    "version": 3
   },
   "file_extension": ".py",
   "mimetype": "text/x-python",
   "name": "python",
   "nbconvert_exporter": "python",
   "pygments_lexer": "ipython3",
   "version": "3.6.9"
  }
 },
 "nbformat": 4,
 "nbformat_minor": 2
}
