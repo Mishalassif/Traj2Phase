{
 "cells": [
  {
   "cell_type": "code",
   "execution_count": 21,
   "metadata": {},
   "outputs": [],
   "source": [
    "from MSSD import MSSD\n",
    "import math\n",
    "import numpy as np\n",
    "from alive_progress import alive_bar\n",
    "import matplotlib.pyplot as plt\n",
    "%matplotlib inline\n"
   ]
  },
  {
   "cell_type": "code",
   "execution_count": 24,
   "metadata": {},
   "outputs": [],
   "source": [
    "def sphere_point(theta, phi):\n",
    "    return [math.sin(phi)*math.cos(theta), math.sin(phi)*math.sin(theta), -math.cos(phi)]\n",
    "\n",
    "def great_circle_with_time(theta, length=10, noise=False, sigma=0.05, time_i=0, time_f=10):\n",
    "    traj = np.zeros((time_f-time_i,4))\n",
    "    for i in range(0, time_f-time_i):\n",
    "        traj[i][1:] = sphere_point(theta, (time_i+i)*math.pi/length)\n",
    "        traj[i][0] = sphere_point(theta, (time_i+i)*math.pi/length)[2]\n",
    "        if noise == True:\n",
    "            traj[i][1:] = np.add(traj[i],sigma*np.random.randn(1,3))\n",
    "    return traj\n",
    "\n",
    "l = 2000\n",
    "traj1 = great_circle_with_time(2*math.pi*0.1, length=l, time_i=0, time_f=l)\n",
    "traj2 = great_circle_with_time(2*math.pi*0.6, length=l, time_i=0, time_f=l)"
   ]
  },
  {
   "cell_type": "code",
   "execution_count": 25,
   "metadata": {},
   "outputs": [
    {
     "name": "stdout",
     "output_type": "stream",
     "text": [
      "|████████████████████████████████████████| 4000000/4000000 [100%] in 4:19.9 (15390.00/s)   101608/4000000 [3%] in 7s (15389.8/s, eta: 4▂▄▆ 200872/4000000 [5%] in 13s (15579.4/s, eta: (15327.5/s, eta: 526527/4000000 [13%] in 35s (14977.1/s, eta:(14953.2/s, eta: ▆█▆ 608688/4000000 [15%] in 41s (14973.1/s, eta:▇▇▅ 615066/4000000 [15%] in 41s (14973.0/s, eta:▆▄▂ 648205/4000000 [16%] in 43s (15002.5/s, eta: 680690/4000000 [17%] in 45s (15060.1/s, eta: (15129.1/s, eta: ▃▁▃ 940660/4000000 [24%] in 1:02 (15194.1/s, eta (15223.2/s, eta (15250.4/s, et▅▇▇ 1057216/4000000 [26%] in 1:09 (15253.1/s, et▂▂▄ 1109111/4000000 [28%] in 1:13 (15268.5/s, et1134229/4000000 [28%] in 1:14 (15249.4/s, et▆█▆ 1257566/4000000 [31%] in 1:22 (15279.3/s, et in 1:28 (15300.1/s, et 1402526/4000000 [35%] in 1:32 (15304.4/s, et1460257/4000000 [37%] in 1:35 (15309.4/s, etin 1:40 (15311.6/s, et1542541/4000000 [39%] in 1:41 (15287.0/s, et ▇▅▃ 1577619/4000000 [39%] in 1:43 (15288.6/s, et1630523/4000000 [41%] in 1:46 (15313.3/s, et1751834/4000000 [44%] in 1:54 (15364.9/s, et in 2:03 (15369.2/s, et1933304/4000000 [48%] in 2:06 (15348.5/s, et▆█▆ 1940006/4000000 [49%] in 2:06 (15350.1/s, et ▇▇▅ 1952244/4000000 [49%] in 2:07 (15348.5/s, et2027785/4000000 [51%] in 2:12 (15321.8/s, et2103591/4000000 [53%] in 2:17 (15318.6/s, et2172453/4000000 [54%] in 2:22 (15321.0/s, etin 2:22 (15309.7/s, et ▄▂▂ 2242606/4000000 [56%] in 2:27 (15253.1/s, et▄▆█ 2289304/4000000 [57%] in 2:30 (15260.2/s, et2457265/4000000 [61%] in 2:40 (15314.8/s, et in 2:42 (15304.1/s, et in 2:51 (15314.8/s, et ▃▁▃ 2797555/4000000 [70%] in 3:02 (15337.3/s, et ▅▇▇ 2949631/4000000 [74%] in 3:12 (15350.3/s, et2997408/4000000 [75%] in 3:15 (15369.4/s, et 3015447/4000000 [75%] in 3:16 (15365.0/s, et █▆▄ 3038302/4000000 [76%] in 3:18 (15367.9/s, et in 3:23 (15368.3/s, et(15369.4/s, et in 3:28 (15365.1/s, et3414755/4000000 [85%] in 3:42 (15383.3/s, et▆▄▂ 3550040/4000000 [89%] in 3:51 (15398.1/s, et ▅▃▁ 3588855/4000000 [90%] in 3:53 (15402.6/s, et (15412.8/s, et (15417.3/s, et▇▇▅ 3727817/4000000 [93%] in 4:02 (15426.2/s, et █▆▄ 3896274/4000000 [97%] in 4:13 (15425.3/s, et3989611/4000000 [100%] in 4:19 (15400.9/s, e 3990578/4000000 [100%] in 4:19 (15396.3/s, e\n",
      "[[0.    0.002 0.003 ... 2.    2.    2.   ]\n",
      " [0.002 0.003 0.005 ... 2.    2.    2.   ]\n",
      " [0.003 0.005 0.006 ... 2.    2.    2.   ]\n",
      " ...\n",
      " [2.    2.    2.    ... 0.009 0.008 0.006]\n",
      " [2.    2.    2.    ... 0.008 0.006 0.005]\n",
      " [2.    2.    2.    ... 0.006 0.005 0.003]]\n",
      "[[1. 1. 1. ... 0. 0. 0.]\n",
      " [1. 1. 1. ... 0. 0. 0.]\n",
      " [1. 1. 1. ... 0. 0. 0.]\n",
      " ...\n",
      " [0. 0. 0. ... 1. 1. 1.]\n",
      " [0. 0. 0. ... 1. 1. 1.]\n",
      " [0. 0. 0. ... 1. 1. 1.]]\n"
     ]
    }
   ],
   "source": [
    "dist_mat = np.zeros((len(traj1), len(traj2)))\n",
    "eps = 1.976\n",
    "\n",
    "with alive_bar(len(traj1)*len(traj2), force_tty=True) as bar:\n",
    "    for i in range(len(traj1)):\n",
    "        for j in range(len(traj2)):\n",
    "            dist_mat[i,j] = round(np.linalg.norm(traj1[i][1:]-traj2[j][1:]), 3)\n",
    "            bar()\n",
    "\n",
    "print(dist_mat)\n",
    "print((dist_mat < eps)*np.ones((len(traj1), len(traj2))))\n",
    "#plt.matshow((dist_mat < eps))"
   ]
  },
  {
   "cell_type": "code",
   "execution_count": 26,
   "metadata": {},
   "outputs": [
    {
     "name": "stdout",
     "output_type": "stream",
     "text": [
      "Sorting time:\n",
      "0.6134717630000068\n",
      "Iteration time:\n",
      "43.39120534799997\n",
      "Post processing time:\n",
      "2.9563950919999797\n"
     ]
    },
    {
     "data": {
      "text/plain": [
       "0.019"
      ]
     },
     "execution_count": 26,
     "metadata": {},
     "output_type": "execute_result"
    }
   ],
   "source": [
    "mssd = MSSD()\n",
    "mssd.set_trajectories(traj1, traj2)\n",
    "\n",
    "mssd.compute_filt()\n",
    "mssd.t_thresh_metric(7)"
   ]
  },
  {
   "cell_type": "code",
   "execution_count": 5,
   "metadata": {},
   "outputs": [
    {
     "name": "stdout",
     "output_type": "stream",
     "text": [
      "[0.765 1.045 1.299 1.521 1.705 1.848 1.945 1.994]\n"
     ]
    },
    {
     "data": {
      "image/png": "[encoded data removed]",
      "text/plain": [
       "<Figure size 432x288 with 1 Axes>"
      ]
     },
     "metadata": {
      "needs_background": "light"
     },
     "output_type": "display_data"
    }
   ],
   "source": [
    "print(mssd.filt)\n",
    "\n",
    "x = [i+1 for i in range(mssd.filt.shape[0])]\n",
    "y = [mssd.filt[i] for i in range(mssd.filt.shape[0])]\n",
    "\n",
    "plt.plot(y,x)\n",
    "plt.show()"
   ]
  }
 ],
 "metadata": {
  "kernelspec": {
   "display_name": "Python 3",
   "language": "python",
   "name": "python3"
  },
  "language_info": {
   "codemirror_mode": {
    "name": "ipython",
    "version": 3
   },
   "file_extension": ".py",
   "mimetype": "text/x-python",
   "name": "python",
   "nbconvert_exporter": "python",
   "pygments_lexer": "ipython3",
   "version": "3.6.9"
  }
 },
 "nbformat": 4,
 "nbformat_minor": 2
}
