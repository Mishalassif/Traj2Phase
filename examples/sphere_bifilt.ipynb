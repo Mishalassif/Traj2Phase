{
 "cells": [
  {
   "cell_type": "code",
   "execution_count": null,
   "metadata": {},
   "outputs": [],
   "source": [
    "from traj2sim import *\n",
    "import math\n",
    "from mpl_toolkits import mplot3d\n",
    "%matplotlib widget\n",
    "import numpy as np\n",
    "import matplotlib.pyplot as plt\n",
    "        \n",
    "def plot_alt_traj(list_traj):\n",
    "    fig = plt.figure()\n",
    "    ax = plt.axes(projection='3d')\n",
    "    for i in range(len(list_traj)):\n",
    "        xdata = list_traj[i][:,1]\n",
    "        ydata = list_traj[i][:,2]\n",
    "        zdata = list_traj[i][:,3]\n",
    "        if i%2 == 0:\n",
    "            ax.scatter3D(xdata, ydata, zdata, c='g')\n",
    "        else:\n",
    "            ax.scatter3D(xdata, ydata, zdata, c='r')\n",
    "    plt.show()\n",
    "    \n",
    "def plot_traj(list_traj):\n",
    "    fig = plt.figure()\n",
    "    ax = plt.axes(projection='3d')\n",
    "    for i in range(len(list_traj)):\n",
    "        xdata = list_traj[i][:,0]\n",
    "        ydata = list_traj[i][:,1]\n",
    "        zdata = list_traj[i][:,2]\n",
    "        if i%2 == 0:\n",
    "            ax.scatter3D(xdata, ydata, zdata, c='g')\n",
    "        else:\n",
    "            ax.scatter3D(xdata, ydata, zdata, c='r')\n",
    "    plt.show()\n",
    "        \n",
    "def sphere_point(theta, phi):\n",
    "    return [math.sin(phi)*math.cos(theta), math.sin(phi)*math.sin(theta), -math.cos(phi)]"
   ]
  },
  {
   "cell_type": "code",
   "execution_count": null,
   "metadata": {},
   "outputs": [],
   "source": []
  },
  {
   "cell_type": "code",
   "execution_count": null,
   "metadata": {},
   "outputs": [],
   "source": [
    "def great_circle_with_time(theta, length=10, noise=False, sigma=0.005, time_i=0, time_f=10):\n",
    "    traj = np.zeros((time_f-time_i,4))\n",
    "    for i in range(0, time_f-time_i):\n",
    "        traj[i][1:] = sphere_point(theta, (time_i+i)*math.pi/length)\n",
    "        #traj[i][0] = -np.arccos(sphere_point(theta, (time_i+i)*math.pi/length)[2])\n",
    "        traj[i][0] = sphere_point(theta, (time_i+i)*math.pi/length)[2]\n",
    "        if noise == True:\n",
    "            traj[i][1:] = np.add(traj[i][1:],sigma*np.random.randn(1,3))\n",
    "    return traj\n",
    "\n",
    "def great_circle(theta, length=10, noise=False, sigma=0.005, time_i=0, time_f=10):\n",
    "    traj = np.zeros((time_f-time_i,3))\n",
    "    for i in range(0, time_f-time_i):\n",
    "        traj[i] = sphere_point(theta, (time_i+i)*math.pi/length)\n",
    "        #traj[i][0] = -np.arccos(sphere_point(theta, (time_i+i)*math.pi/length)[2])\n",
    "        #traj[i][0] = sphere_point(theta, (time_i+i)*math.pi/length)[2]\n",
    "        if noise == True:\n",
    "            traj[i] = np.add(traj[i][1:],sigma*np.random.randn(1,3))\n",
    "    return traj\n",
    "\n",
    "t2s = Traj2Sim()\n",
    "\n",
    "list_traj = []\n",
    "N=60\n",
    "length=20\n",
    "for i in range(N):\n",
    "    if i%2 == 0:\n",
    "        list_traj.append(great_circle_with_time(2*i*math.pi/N, length, noise=1,time_i=int(0*length), time_f=int(0.65*length)))\n",
    "    else:\n",
    "        list_traj.append(great_circle_with_time(2*i*math.pi/N, length, noise=1,time_i=int(0.35*length), time_f=int(1*length)-1))        \n",
    "\n",
    "plot_alt_traj(list_traj)\n",
    "\n",
    "t2s.set_trajectories(list_traj)\n",
    "t2s.dist = 'custom'\n",
    "t2s.compute_dist(verbose=False)\n",
    "t2s.compute_sim(verbose=False)\n",
    "\n",
    "print('Persistence intervals:')\n",
    "pers = t2s.simplex_tree.persistence(homology_coeff_field=2, min_persistence=0.1)\n",
    "pers.sort(key=lambda x: x[1][0]-x[1][1])\n",
    "print(pers[:10])\n",
    "\n",
    "gudhi.plot_persistence_barcode(pers[:40])"
   ]
  },
  {
   "cell_type": "code",
   "execution_count": null,
   "metadata": {},
   "outputs": [],
   "source": [
    "gudhi.plot_persistence_diagram(pers[:20])\n"
   ]
  }
 ],
 "metadata": {
  "kernelspec": {
   "display_name": "Python 3",
   "language": "python",
   "name": "python3"
  },
  "language_info": {
   "codemirror_mode": {
    "name": "ipython",
    "version": 3
   },
   "file_extension": ".py",
   "mimetype": "text/x-python",
   "name": "python",
   "nbconvert_exporter": "python",
   "pygments_lexer": "ipython3",
   "version": "3.6.9"
  }
 },
 "nbformat": 4,
 "nbformat_minor": 2
}
