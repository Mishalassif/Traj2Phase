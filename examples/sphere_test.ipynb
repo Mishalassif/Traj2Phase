{
 "cells": [
  {
   "cell_type": "code",
   "execution_count": 1,
   "metadata": {},
   "outputs": [
    {
     "ename": "ModuleNotFoundError",
     "evalue": "No module named 'traj2sim'",
     "output_type": "error",
     "traceback": [
      "\u001b[0;31m---------------------------------------------------------------------------\u001b[0m",
      "\u001b[0;31mModuleNotFoundError\u001b[0m                       Traceback (most recent call last)",
      "\u001b[0;32m<ipython-input-1-4213b709cdf2>\u001b[0m in \u001b[0;36m<module>\u001b[0;34m\u001b[0m\n\u001b[0;32m----> 1\u001b[0;31m \u001b[0;32mfrom\u001b[0m \u001b[0mtraj2sim\u001b[0m \u001b[0;32mimport\u001b[0m \u001b[0;34m*\u001b[0m\u001b[0;34m\u001b[0m\u001b[0;34m\u001b[0m\u001b[0m\n\u001b[0m\u001b[1;32m      2\u001b[0m \u001b[0;32mimport\u001b[0m \u001b[0mmath\u001b[0m\u001b[0;34m\u001b[0m\u001b[0;34m\u001b[0m\u001b[0m\n",
      "\u001b[0;31mModuleNotFoundError\u001b[0m: No module named 'traj2sim'"
     ]
    }
   ],
   "source": [
    "from traj2sim import *\n",
    "import math"
   ]
  },
  {
   "cell_type": "code",
   "execution_count": 11,
   "metadata": {
    "scrolled": true
   },
   "outputs": [
    {
     "name": "stdout",
     "output_type": "stream",
     "text": [
      "Rips complex is of dimension 1 - 15 simplices - 5 vertices.\n",
      "[0] -> 0.00\n",
      "[1] -> 0.00\n",
      "[2] -> 0.00\n",
      "[3] -> 0.00\n",
      "[4] -> 0.00\n",
      "[1, 2] -> 2.54\n",
      "[0, 4] -> 2.59\n",
      "[3, 4] -> 2.60\n",
      "[0, 1] -> 2.65\n",
      "[2, 3] -> 2.78\n",
      "[0, 2] -> 4.12\n",
      "[0, 3] -> 4.19\n",
      "[2, 4] -> 4.25\n",
      "[1, 4] -> 4.29\n",
      "[1, 3] -> 4.33\n"
     ]
    }
   ],
   "source": [
    "def sphere_point(theta, phi):\n",
    "    return [math.cos(phi)*math.cos(theta), math.cos(phi)*math.sin(theta), math.sin(phi)]\n",
    "\n",
    "def great_circle(theta, length = 10, noise=False, sigma=0.05):\n",
    "    traj = np.zeros((length,3))\n",
    "    for i in range(0, length):\n",
    "        traj[i][:] = sphere_point(theta, i*math.pi/length) \n",
    "        if noise == True:\n",
    "            traj[i] = np.add(traj[i],sigma*np.random.randn(1,3))\n",
    "    return traj\n",
    "\n",
    "t2s = Traj2Sim()\n",
    "\n",
    "list_traj = []\n",
    "N=5\n",
    "for i in range(N):\n",
    "    list_traj.append(great_circle(2*i*math.pi/N, noise=True))\n",
    "t2s.set_trajectories(list_traj)\n",
    "\n",
    "t2s.compute_dist()\n",
    "t2s.compute_sim(verbose=True)"
   ]
  },
  {
   "cell_type": "code",
   "execution_count": null,
   "metadata": {},
   "outputs": [],
   "source": []
  },
  {
   "cell_type": "code",
   "execution_count": null,
   "metadata": {},
   "outputs": [],
   "source": []
  },
  {
   "cell_type": "code",
   "execution_count": null,
   "metadata": {},
   "outputs": [],
   "source": []
  }
 ],
 "metadata": {
  "kernelspec": {
   "display_name": "Python 3",
   "language": "python",
   "name": "python3"
  },
  "language_info": {
   "codemirror_mode": {
    "name": "ipython",
    "version": 3
   },
   "file_extension": ".py",
   "mimetype": "text/x-python",
   "name": "python",
   "nbconvert_exporter": "python",
   "pygments_lexer": "ipython3",
   "version": "3.6.9"
  }
 },
 "nbformat": 4,
 "nbformat_minor": 2
}
